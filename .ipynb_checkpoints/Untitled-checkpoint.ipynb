{
 "cells": [
  {
   "cell_type": "code",
   "execution_count": 3,
   "id": "1d9b2d6a-0ff4-4c07-9060-1ca22b37c147",
   "metadata": {},
   "outputs": [],
   "source": [
    "# importando bibliotecas\n",
    "import pandas as pd"
   ]
  },
  {
   "cell_type": "markdown",
   "id": "fa9f1b1e-88da-4fcc-af86-9389ef40f89b",
   "metadata": {},
   "source": [
    "## Vamos fazer o processo ETL - Extract, Transform, Load\n",
    "Este processo é manual para demonstrar na prática o DataOps"
   ]
  },
  {
   "cell_type": "code",
   "execution_count": 39,
   "id": "fe4f049d-6f71-4c89-9837-0e15f3a65282",
   "metadata": {},
   "outputs": [],
   "source": [
    "df = pd.read_csv('vendas.csv')"
   ]
  },
  {
   "cell_type": "code",
   "execution_count": 41,
   "id": "67510f1d-d6cf-45e4-afcd-4dbcc1c45681",
   "metadata": {},
   "outputs": [
    {
     "data": {
      "text/html": [
       "<div>\n",
       "<style scoped>\n",
       "    .dataframe tbody tr th:only-of-type {\n",
       "        vertical-align: middle;\n",
       "    }\n",
       "\n",
       "    .dataframe tbody tr th {\n",
       "        vertical-align: top;\n",
       "    }\n",
       "\n",
       "    .dataframe thead th {\n",
       "        text-align: right;\n",
       "    }\n",
       "</style>\n",
       "<table border=\"1\" class=\"dataframe\">\n",
       "  <thead>\n",
       "    <tr style=\"text-align: right;\">\n",
       "      <th></th>\n",
       "      <th>produto</th>\n",
       "      <th>valor</th>\n",
       "      <th>data_venda</th>\n",
       "    </tr>\n",
       "  </thead>\n",
       "  <tbody>\n",
       "    <tr>\n",
       "      <th>0</th>\n",
       "      <td>A</td>\n",
       "      <td>100</td>\n",
       "      <td>10-10-2024</td>\n",
       "    </tr>\n",
       "    <tr>\n",
       "      <th>1</th>\n",
       "      <td>A</td>\n",
       "      <td>200</td>\n",
       "      <td>05-09-2025</td>\n",
       "    </tr>\n",
       "    <tr>\n",
       "      <th>2</th>\n",
       "      <td>B</td>\n",
       "      <td>300</td>\n",
       "      <td>07-12-2023</td>\n",
       "    </tr>\n",
       "  </tbody>\n",
       "</table>\n",
       "</div>"
      ],
      "text/plain": [
       "  produto  valor  data_venda\n",
       "0       A    100  10-10-2024\n",
       "1       A    200  05-09-2025\n",
       "2       B    300  07-12-2023"
      ]
     },
     "execution_count": 41,
     "metadata": {},
     "output_type": "execute_result"
    }
   ],
   "source": [
    "df.head()"
   ]
  },
  {
   "cell_type": "code",
   "execution_count": 43,
   "id": "4e5b7aeb-44bc-4933-b62c-fff0cb7ddfff",
   "metadata": {},
   "outputs": [],
   "source": [
    "df.rename(columns={'valor': 'preco_unitario'}, inplace=True)"
   ]
  },
  {
   "cell_type": "code",
   "execution_count": 45,
   "id": "c5982b6f-8782-46b2-92a9-2708b33e4aa5",
   "metadata": {},
   "outputs": [
    {
     "data": {
      "text/html": [
       "<div>\n",
       "<style scoped>\n",
       "    .dataframe tbody tr th:only-of-type {\n",
       "        vertical-align: middle;\n",
       "    }\n",
       "\n",
       "    .dataframe tbody tr th {\n",
       "        vertical-align: top;\n",
       "    }\n",
       "\n",
       "    .dataframe thead th {\n",
       "        text-align: right;\n",
       "    }\n",
       "</style>\n",
       "<table border=\"1\" class=\"dataframe\">\n",
       "  <thead>\n",
       "    <tr style=\"text-align: right;\">\n",
       "      <th></th>\n",
       "      <th>produto</th>\n",
       "      <th>preco_unitario</th>\n",
       "      <th>data_venda</th>\n",
       "    </tr>\n",
       "  </thead>\n",
       "  <tbody>\n",
       "    <tr>\n",
       "      <th>0</th>\n",
       "      <td>A</td>\n",
       "      <td>100</td>\n",
       "      <td>10-10-2024</td>\n",
       "    </tr>\n",
       "    <tr>\n",
       "      <th>1</th>\n",
       "      <td>A</td>\n",
       "      <td>200</td>\n",
       "      <td>05-09-2025</td>\n",
       "    </tr>\n",
       "    <tr>\n",
       "      <th>2</th>\n",
       "      <td>B</td>\n",
       "      <td>300</td>\n",
       "      <td>07-12-2023</td>\n",
       "    </tr>\n",
       "  </tbody>\n",
       "</table>\n",
       "</div>"
      ],
      "text/plain": [
       "  produto  preco_unitario  data_venda\n",
       "0       A             100  10-10-2024\n",
       "1       A             200  05-09-2025\n",
       "2       B             300  07-12-2023"
      ]
     },
     "execution_count": 45,
     "metadata": {},
     "output_type": "execute_result"
    }
   ],
   "source": [
    "df.head()"
   ]
  },
  {
   "cell_type": "code",
   "execution_count": 47,
   "id": "9fe93b77-e683-4570-9953-5daea2e39d35",
   "metadata": {},
   "outputs": [],
   "source": [
    "# Calculando preço do produto com imposto\n",
    "df['preco_com_imposto'] = df['preco_unitario'] * 1.10"
   ]
  },
  {
   "cell_type": "code",
   "execution_count": 51,
   "id": "6132a346-67fd-4581-bded-2ac1349e93da",
   "metadata": {},
   "outputs": [],
   "source": [
    "df['data_venda'] = pd.to_datetime(df['data_venda'])"
   ]
  },
  {
   "cell_type": "code",
   "execution_count": 53,
   "id": "83d5d10b-8aa0-435d-bc7b-9c6b88b00ff3",
   "metadata": {},
   "outputs": [],
   "source": [
    "df['mes_venda'] = df['data_venda'].dt.month"
   ]
  },
  {
   "cell_type": "code",
   "execution_count": null,
   "id": "113ce646-2964-4eab-b18e-07e95b0f92e5",
   "metadata": {},
   "outputs": [],
   "source": [
    "df.to_csv('vendas_transformadas.csv', index=False)"
   ]
  },
  {
   "cell_type": "markdown",
   "id": "68579cad-d12a-4bfa-8f6c-1f4b77097008",
   "metadata": {},
   "source": [
    "### Este é um processo ETL — Extract, Transform, Load.\n",
    "Eu extraio os dados de um arquivo, transformo (limpo, calculo novas métricas) e salvo.\n",
    "Funciona bem… mas e se precisarmos rodar isso toda vez que um novo arquivo chegar? Ou toda vez que alguém subir dados novos no repositório?"
   ]
  },
  {
   "cell_type": "markdown",
   "id": "4d9152cb-0534-4beb-bd42-608caf562f52",
   "metadata": {},
   "source": [
    "### É aqui que entra o DataOps \n",
    "Ele automatiza essa execução usando pipelines"
   ]
  },
  {
   "cell_type": "markdown",
   "id": "3052b797-39e1-41eb-be10-6b4261da6ae5",
   "metadata": {},
   "source": [
    "## Do ETL manual à pipeline automatizada"
   ]
  },
  {
   "cell_type": "markdown",
   "id": "40699198-b11b-4691-9f70-f7ca71d62fac",
   "metadata": {},
   "source": [
    "A lógica é: cada vez que um novo arquivo for enviado ao repositório, a pipeline executa este script automaticamente.\n",
    "Isso é o que chamamos de CI/CD de dados, ou seja, Continuous Integration e Continuous Delivery aplicados ao ciclo dos dados.\n",
    "Veja a estrutura de pastas de um repositório simples para demonstração"
   ]
  },
  {
   "cell_type": "raw",
   "id": "728bf4b3-cd99-4c54-b806-3adea9041c0c",
   "metadata": {},
   "source": [
    "📁 etl-pipeline/\n",
    " ┣ 📄 vendas.csv\n",
    " ┣ 📄 etl_vendas.py\n",
    " ┗ 📁 .github/workflows/\n",
    "    ┗ 📄 data_pipeline.yml"
   ]
  },
  {
   "cell_type": "markdown",
   "id": "d64c4bb8-978f-4986-8b29-b08a103e478d",
   "metadata": {},
   "source": [
    "# Instalar o pacote do yaml\n",
    "Desta forma podemos criar o arquivo no mesmo notebook que estamos analisando nossos dados."
   ]
  },
  {
   "cell_type": "code",
   "execution_count": 68,
   "id": "5992b5b3-bb4d-4411-bce8-7de03eb28b8a",
   "metadata": {},
   "outputs": [
    {
     "name": "stdout",
     "output_type": "stream",
     "text": [
      "Requirement already satisfied: pyyaml in c:\\users\\batis\\anaconda3\\lib\\site-packages (6.0.1)\n",
      "Note: you may need to restart the kernel to use updated packages.\n"
     ]
    }
   ],
   "source": [
    "pip install pyyaml"
   ]
  },
  {
   "cell_type": "code",
   "execution_count": 70,
   "id": "ed6554f5-fda7-46aa-a8d9-f2a831550a20",
   "metadata": {},
   "outputs": [],
   "source": [
    "# importando a biblioteca yaml para nosso projeto\n",
    "import yaml"
   ]
  },
  {
   "cell_type": "markdown",
   "id": "e4eef461-fc74-459e-af80-45c70e15cf84",
   "metadata": {},
   "source": [
    "### Gerar YAML a partir de um dicionário Python"
   ]
  },
  {
   "cell_type": "code",
   "execution_count": 74,
   "id": "e4d71245-9611-4fdb-80e5-410b2ce8d31d",
   "metadata": {},
   "outputs": [],
   "source": [
    "# Criando o arquivo\n",
    "config = {\n",
    "    \"configuracao\": {\n",
    "        \"versao\": 1.0,\n",
    "        \"autor\": \"Debora B. Paulo\",\n",
    "        \"descricao\": \"Configuração de conexão com banco de dados\",\n",
    "        \"conexao\": {\n",
    "            \"host\": \"localhost\",\n",
    "            \"usuario\": \"root\",\n",
    "            \"senha\": \"1234\",\n",
    "            \"banco\": \"vendas\"\n",
    "        }\n",
    "    }\n",
    "}"
   ]
  },
  {
   "cell_type": "code",
   "execution_count": 76,
   "id": "4dc1bfe5-9110-48ec-b3ee-322b150dfe05",
   "metadata": {},
   "outputs": [],
   "source": [
    "# Salvar o arquivo .yaml\n",
    "\n",
    "with open(\"config.yaml\", \"w\") as f:\n",
    "    yaml.dump(config, f, default_flow_style=False, allow_unicode=True)"
   ]
  },
  {
   "cell_type": "markdown",
   "id": "e3ec8788-4a6c-4b62-9a82-db58e9e09ee9",
   "metadata": {},
   "source": [
    "## Ler o arquivo YAML no notebook que estamos trabalhando"
   ]
  },
  {
   "cell_type": "code",
   "execution_count": 81,
   "id": "111c9576-7dbc-44ca-b26b-ac54614b80b5",
   "metadata": {},
   "outputs": [
    {
     "name": "stdout",
     "output_type": "stream",
     "text": [
      "{'configuracao': {'autor': 'Debora B. Paulo', 'conexao': {'banco': 'vendas', 'host': 'localhost', 'senha': '1234', 'usuario': 'root'}, 'descricao': 'Configuração de conexão com banco de dados', 'versao': 1.0}}\n"
     ]
    }
   ],
   "source": [
    "# para ler sempre que quiser:\n",
    "with open(\"config.yaml\", \"r\") as f:\n",
    "    dados = yaml.safe_load(f)\n",
    "\n",
    "    print(dados)"
   ]
  },
  {
   "cell_type": "markdown",
   "id": "15b15eec-5aa0-400f-a07f-92741017461e",
   "metadata": {},
   "source": [
    "# Arquivo data_pipeline.yaml"
   ]
  },
  {
   "cell_type": "markdown",
   "id": "9ca7b032-5dfc-41b6-becc-c3e66c394449",
   "metadata": {},
   "source": [
    "No github, criar o workflow e lá dentro criar o arquivo yaml.\n",
    "\n",
    "name: Executar ETL de Vendas\n",
    "\n",
    "on:\n",
    "  push:\n",
    "    paths:\n",
    "      - 'vendas.csv'\n",
    "\n",
    "jobs:\n",
    "  run-etl:\n",
    "    runs-on: ubuntu-latest\n",
    "    steps:\n",
    "      - name: Baixar código\n",
    "        uses: actions/checkout@v3\n",
    "\n",
    "      - name: Configurar Python\n",
    "        uses: actions/setup-python@v4\n",
    "        with:\n",
    "          python-version: '3.10'\n",
    "\n",
    "      - name: Instalar dependências\n",
    "        run: pip install pandas\n",
    "\n",
    "      - name: Executar ETL\n",
    "        run: python etl_vendas.py\n"
   ]
  },
  {
   "cell_type": "code",
   "execution_count": null,
   "id": "2b6ac28a-ba1a-4f4d-8423-f13745caa3ef",
   "metadata": {},
   "outputs": [],
   "source": []
  }
 ],
 "metadata": {
  "kernelspec": {
   "display_name": "Python [conda env:base] *",
   "language": "python",
   "name": "conda-base-py"
  },
  "language_info": {
   "codemirror_mode": {
    "name": "ipython",
    "version": 3
   },
   "file_extension": ".py",
   "mimetype": "text/x-python",
   "name": "python",
   "nbconvert_exporter": "python",
   "pygments_lexer": "ipython3",
   "version": "3.12.7"
  }
 },
 "nbformat": 4,
 "nbformat_minor": 5
}
